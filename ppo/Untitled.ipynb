{
 "cells": [
  {
   "cell_type": "code",
   "execution_count": 1,
   "metadata": {},
   "outputs": [],
   "source": [
    "import argparse\n",
    "import math\n",
    "import os\n",
    "import random\n",
    "import gym\n",
    "import numpy as np\n",
    "import json\n",
    "\n",
    "# Follow instructions here to install https://github.com/openai/roboschool\n",
    "#import roboschool\n",
    "\n",
    "import torch\n",
    "import torch.nn as nn\n",
    "import torch.optim as optim\n",
    "import torch.nn.functional as F\n",
    "from tensorboardX import SummaryWriter\n",
    "\n",
    "from lib.common import mkdir\n",
    "#from lib.model import ActorCritic\n",
    "import lib.model as models\n",
    "from lib.multiprocessing_env import SubprocVecEnv\n",
    "from lib.environment import atari_env\n",
    "from lib.config import setup\n",
    "\n",
    "def make_env(env_id):\n",
    "    # returns a function which creates a single environment\n",
    "    def _thunk():\n",
    "        #env = gym.make(env_id)\n",
    "        env = atari_env(env_id)\n",
    "        return env\n",
    "    return _thunk\n",
    "\n",
    "def test_env(env, model, device, deterministic=True):\n",
    "    state = env.reset()\n",
    "    done = False\n",
    "    total_reward = 0\n",
    "    while not done:\n",
    "        state = torch.FloatTensor(state).unsqueeze(0).to(device)\n",
    "        dist, _ = model(state)\n",
    "\n",
    "        if isinstance(dist, torch.distributions.categorical.Categorical):\n",
    "            action = np.argmax(dist.probs.detach().cpu().numpy()) if deterministic \\\n",
    "                else int(dist.sample().cpu().numpy())\n",
    "\n",
    "        elif isinstance(dist, torch.distributions.normal.Normal):\n",
    "            action = dist.mean.detach().cpu().numpy()[0] if deterministic \\\n",
    "                else dist.sample().cpu().numpy()[0]\n",
    "        \n",
    "        next_state, reward, done, _ = env.step(action)\n",
    "        state = next_state\n",
    "        total_reward += reward\n",
    "    return total_reward\n",
    "\n",
    "\n",
    "def normalize(x):\n",
    "    x -= x.mean()\n",
    "    x /= (x.std() + 1e-8)\n",
    "    return x\n",
    "\n",
    "def compute_gae(next_value, rewards, masks, values, gamma=0.99, lam=0.95):\n",
    "    values = values + [next_value]\n",
    "    gae = 0\n",
    "    returns = []\n",
    "    for step in reversed(range(len(rewards))):\n",
    "        delta = rewards[step] + gamma * \\\n",
    "            values[step + 1] * masks[step] - values[step]\n",
    "        gae = delta + gamma * lam * masks[step] * gae\n",
    "        # prepend to get correct order back\n",
    "        returns.insert(0, gae + values[step])\n",
    "    return returns\n",
    "\n",
    "def ppo_iter(states, actions, log_probs, returns, advantage, mini_batch_size):\n",
    "    batch_size = states.shape[0]\n",
    "    # generates random mini-batches until we have covered the full batch\n",
    "    for _ in range(batch_size // mini_batch_size):\n",
    "        rand_ids = np.random.randint(0, batch_size, mini_batch_size)\n",
    "        yield states[rand_ids, :], actions[rand_ids, :], log_probs[rand_ids, :], returns[rand_ids, :], advantage[rand_ids, :]\n",
    "\n",
    "def ppo_update(frame_idx, states, actions, log_probs, returns, advantages, clip_param, \n",
    "    epochs, mini_batch_size, critic_discount, entropy_beta, device):\n",
    "\n",
    "    count_steps = 0\n",
    "    sum_returns = 0.0\n",
    "    sum_advantage = 0.0\n",
    "    sum_loss_actor = 0.0\n",
    "    sum_loss_critic = 0.0\n",
    "    sum_entropy = 0.0\n",
    "    sum_loss_total = 0.0\n",
    "\n",
    "    # PPO EPOCHS is the number of times we will go through ALL the training data to make updates    \n",
    "    for _ in range(epochs):\n",
    "        # grabs random mini-batches several times until we have covered all data\n",
    "        for state, action, old_log_probs, return_, advantage in ppo_iter(states, actions, log_probs, returns, advantages, mini_batch_size):\n",
    "            \n",
    "            state = torch.FloatTensor(state).to(device)\n",
    "            action = torch.FloatTensor(action).to(device)\n",
    "            old_log_probs = torch.FloatTensor(old_log_probs).to(device)\n",
    "            advantage = torch.FloatTensor(advantage).to(device)\n",
    "            return_ = torch.FloatTensor(return_).to(device)\n",
    "\n",
    "            dist, value = model(state)\n",
    "            \n",
    "            entropy = dist.entropy().mean()\n",
    "            #new_log_probs = dist.log_prob(action)\n",
    "            new_log_probs = dist.log_prob(action.squeeze()).unsqueeze(dim=1)\n",
    "\n",
    "            ratio = (new_log_probs - old_log_probs).exp()\n",
    "            surr1 = ratio * advantage\n",
    "            surr2 = torch.clamp(ratio, 1.0 - clip_param,\n",
    "                                1.0 + clip_param) * advantage\n",
    "\n",
    "            actor_loss = - torch.min(surr1, surr2).mean()\n",
    "            critic_loss = (return_ - value).pow(2).mean()\n",
    "\n",
    "            loss = critic_discount * critic_loss + actor_loss - entropy_beta * entropy\n",
    "\n",
    "            optimizer.zero_grad()\n",
    "            loss.backward()\n",
    "            optimizer.step()\n",
    "\n",
    "            # track statistics\n",
    "            sum_returns += return_.mean()\n",
    "            sum_advantage += advantage.mean()\n",
    "            sum_loss_actor += actor_loss\n",
    "            sum_loss_critic += critic_loss\n",
    "            sum_loss_total += loss\n",
    "            sum_entropy += entropy\n",
    "\n",
    "            count_steps += 1\n",
    "\n",
    "    writer.add_scalar(\"returns\", sum_returns / count_steps, frame_idx)\n",
    "    writer.add_scalar(\"advantage\", sum_advantage / count_steps, frame_idx)\n",
    "    writer.add_scalar(\"loss_actor\", sum_loss_actor / count_steps, frame_idx)\n",
    "    writer.add_scalar(\"loss_critic\", sum_loss_critic / count_steps, frame_idx)\n",
    "    writer.add_scalar(\"entropy\", sum_entropy / count_steps, frame_idx)\n",
    "    writer.add_scalar(\"loss_total\", sum_loss_total / count_steps, frame_idx)\n"
   ]
  },
  {
   "cell_type": "code",
   "execution_count": 2,
   "metadata": {},
   "outputs": [
    {
     "name": "stdout",
     "output_type": "stream",
     "text": [
      "Device: cuda\n",
      "ActorCriticLSTM(\n",
      "  (conv1): Conv2d(1, 32, kernel_size=(5, 5), stride=(1, 1), padding=(2, 2))\n",
      "  (maxp1): MaxPool2d(kernel_size=2, stride=2, padding=0, dilation=1, ceil_mode=False)\n",
      "  (conv2): Conv2d(32, 32, kernel_size=(5, 5), stride=(1, 1), padding=(1, 1))\n",
      "  (maxp2): MaxPool2d(kernel_size=2, stride=2, padding=0, dilation=1, ceil_mode=False)\n",
      "  (conv3): Conv2d(32, 64, kernel_size=(4, 4), stride=(1, 1), padding=(1, 1))\n",
      "  (maxp3): MaxPool2d(kernel_size=2, stride=2, padding=0, dilation=1, ceil_mode=False)\n",
      "  (conv4): Conv2d(64, 64, kernel_size=(3, 3), stride=(1, 1), padding=(1, 1))\n",
      "  (maxp4): MaxPool2d(kernel_size=2, stride=2, padding=0, dilation=1, ceil_mode=False)\n",
      "  (lstm): LSTMCell(1024, 512)\n",
      "  (critic_linear): Linear(in_features=512, out_features=1, bias=True)\n",
      "  (actor_linear): Linear(in_features=512, out_features=4, bias=True)\n",
      "  (logsoftmax): LogSoftmax()\n",
      ")\n"
     ]
    }
   ],
   "source": [
    "    conf = setup('BreakoutNoFrameskip-v4')\n",
    "    use_cuda = torch.cuda.is_available()\n",
    "    device = torch.device(\"cuda\" if use_cuda else \"cpu\")\n",
    "    print('Device:', device)\n",
    "\n",
    "    # Prepare environments\n",
    "    envs = [make_env(conf.ENV_ID) for i in range(conf.NUM_ENVS)]\n",
    "    envs = SubprocVecEnv(envs)\n",
    "    \n",
    "    env = atari_env(conf.ENV_ID)\n",
    "    \n",
    "    num_inputs = conf.NUM_INPUTS #envs.observation_space\n",
    "    num_outputs = conf.NUM_OUTPUTS #envs.action_space\n",
    "\n",
    "    model = conf.MODEL_CLASS(num_inputs, num_outputs, hidden_size=conf.HIDDEN_SIZE).to(device)\n",
    "    print(model)\n",
    "    optimizer = optim.Adam(model.parameters(), lr=conf.LEARNING_RATE)\n",
    "\n",
    "    frame_idx = 0\n",
    "    train_epoch = 0\n",
    "    best_reward = None\n",
    "\n",
    "    state = envs.reset()\n",
    "    early_stop = False\n",
    "\n",
    "    log_probs = []\n",
    "    values = []\n",
    "    states = []\n",
    "    actions = []\n",
    "    rewards = []\n",
    "    masks = []\n"
   ]
  },
  {
   "cell_type": "code",
   "execution_count": 3,
   "metadata": {},
   "outputs": [],
   "source": [
    "for _ in range(conf.PPO_STEPS):\n",
    "            state = torch.FloatTensor(state).to(device)\n",
    "            dist, value = model(state)\n",
    "            \n",
    "            action = dist.sample()\n",
    "            \n",
    "            # each state, reward, done is a list of results from each parallel environment\n",
    "            next_state, reward, done, _ = envs.step(action.cpu().numpy())\n",
    "            \n",
    "            log_prob = dist.log_prob(action)\n",
    "\n",
    "            # Save Episodes\n",
    "            log_probs.append(log_prob.cpu().detach().numpy())\n",
    "            values.append(value.cpu().detach().numpy())\n",
    "            rewards.append(np.expand_dims(reward, 1))\n",
    "            masks.append(np.expand_dims(1-done, 1))\n",
    "            states.append(state.cpu().detach().numpy())\n",
    "            actions.append(action.cpu().detach().numpy())\n",
    "\n",
    "            state = next_state\n",
    "            frame_idx += 1\n"
   ]
  },
  {
   "cell_type": "code",
   "execution_count": 10,
   "metadata": {},
   "outputs": [],
   "source": [
    "import matplotlib.pyplot as plt"
   ]
  },
  {
   "cell_type": "code",
   "execution_count": 43,
   "metadata": {},
   "outputs": [
    {
     "data": {
      "text/plain": [
       "<matplotlib.image.AxesImage at 0x7faf022e1e80>"
      ]
     },
     "execution_count": 43,
     "metadata": {},
     "output_type": "execute_result"
    },
    {
     "data": {
      "image/png": "[encoded data removed]",
      "text/plain": [
       "<Figure size 432x288 with 1 Axes>"
      ]
     },
     "metadata": {
      "needs_background": "light"
     },
     "output_type": "display_data"
    }
   ],
   "source": [
    "plt.imshow(states[138][0][0])"
   ]
  },
  {
   "cell_type": "code",
   "execution_count": null,
   "metadata": {},
   "outputs": [],
   "source": []
  },
  {
   "cell_type": "code",
   "execution_count": null,
   "metadata": {},
   "outputs": [],
   "source": []
  },
  {
   "cell_type": "code",
   "execution_count": 7,
   "metadata": {},
   "outputs": [],
   "source": [
    "advantages = returns - values\n",
    "advantages = normalize(advantages)"
   ]
  },
  {
   "cell_type": "code",
   "execution_count": 8,
   "metadata": {},
   "outputs": [],
   "source": [
    "if len(log_probs.shape) == 1:\n",
    "            log_probs = np.expand_dims(log_probs, 1)\n",
    "\n",
    "if len(actions.shape) == 1:\n",
    "            actions = np.expand_dims(actions, 1)"
   ]
  },
  {
   "cell_type": "code",
   "execution_count": 10,
   "metadata": {},
   "outputs": [],
   "source": [
    "for state, action, old_log_probs, return_, advantage in ppo_iter(states, actions, log_probs, returns, advantages, 128):\n",
    "    break"
   ]
  },
  {
   "cell_type": "code",
   "execution_count": 11,
   "metadata": {},
   "outputs": [],
   "source": [
    "    count_steps = 0\n",
    "    sum_returns = 0.0\n",
    "    sum_advantage = 0.0\n",
    "    sum_loss_actor = 0.0\n",
    "    sum_loss_critic = 0.0\n",
    "    sum_entropy = 0.0\n",
    "    sum_loss_total = 0.0"
   ]
  },
  {
   "cell_type": "code",
   "execution_count": 12,
   "metadata": {},
   "outputs": [],
   "source": [
    "state = torch.FloatTensor(state).to(device)"
   ]
  },
  {
   "cell_type": "code",
   "execution_count": 14,
   "metadata": {},
   "outputs": [],
   "source": [
    "dist, value = model(state)"
   ]
  },
  {
   "cell_type": "code",
   "execution_count": 15,
   "metadata": {},
   "outputs": [],
   "source": [
    "entropy = dist.entropy().mean()"
   ]
  },
  {
   "cell_type": "code",
   "execution_count": null,
   "metadata": {},
   "outputs": [],
   "source": []
  },
  {
   "cell_type": "code",
   "execution_count": 25,
   "metadata": {
    "scrolled": true
   },
   "outputs": [
    {
     "data": {
      "text/plain": [
       "tensor([[3.],\n",
       "        [1.],\n",
       "        [0.],\n",
       "        [0.],\n",
       "        [3.],\n",
       "        [3.],\n",
       "        [0.],\n",
       "        [1.],\n",
       "        [1.],\n",
       "        [0.],\n",
       "        [2.],\n",
       "        [0.],\n",
       "        [0.],\n",
       "        [3.],\n",
       "        [2.],\n",
       "        [2.],\n",
       "        [1.],\n",
       "        [2.],\n",
       "        [3.],\n",
       "        [1.],\n",
       "        [2.],\n",
       "        [0.],\n",
       "        [3.],\n",
       "        [2.],\n",
       "        [3.],\n",
       "        [1.],\n",
       "        [2.],\n",
       "        [2.],\n",
       "        [3.],\n",
       "        [2.],\n",
       "        [3.],\n",
       "        [0.],\n",
       "        [3.],\n",
       "        [2.],\n",
       "        [0.],\n",
       "        [2.],\n",
       "        [2.],\n",
       "        [0.],\n",
       "        [3.],\n",
       "        [2.],\n",
       "        [3.],\n",
       "        [3.],\n",
       "        [1.],\n",
       "        [1.],\n",
       "        [2.],\n",
       "        [1.],\n",
       "        [2.],\n",
       "        [3.],\n",
       "        [1.],\n",
       "        [3.],\n",
       "        [1.],\n",
       "        [3.],\n",
       "        [1.],\n",
       "        [1.],\n",
       "        [2.],\n",
       "        [3.],\n",
       "        [2.],\n",
       "        [2.],\n",
       "        [2.],\n",
       "        [3.],\n",
       "        [3.],\n",
       "        [1.],\n",
       "        [3.],\n",
       "        [1.],\n",
       "        [0.],\n",
       "        [3.],\n",
       "        [1.],\n",
       "        [0.],\n",
       "        [0.],\n",
       "        [3.],\n",
       "        [0.],\n",
       "        [3.],\n",
       "        [2.],\n",
       "        [0.],\n",
       "        [1.],\n",
       "        [0.],\n",
       "        [3.],\n",
       "        [1.],\n",
       "        [3.],\n",
       "        [0.],\n",
       "        [1.],\n",
       "        [1.],\n",
       "        [3.],\n",
       "        [0.],\n",
       "        [0.],\n",
       "        [2.],\n",
       "        [0.],\n",
       "        [2.],\n",
       "        [1.],\n",
       "        [2.],\n",
       "        [1.],\n",
       "        [1.],\n",
       "        [1.],\n",
       "        [2.],\n",
       "        [2.],\n",
       "        [3.],\n",
       "        [1.],\n",
       "        [2.],\n",
       "        [0.],\n",
       "        [0.],\n",
       "        [0.],\n",
       "        [2.],\n",
       "        [0.],\n",
       "        [1.],\n",
       "        [3.],\n",
       "        [0.],\n",
       "        [2.],\n",
       "        [2.],\n",
       "        [2.],\n",
       "        [2.],\n",
       "        [1.],\n",
       "        [1.],\n",
       "        [3.],\n",
       "        [1.],\n",
       "        [2.],\n",
       "        [1.],\n",
       "        [0.],\n",
       "        [0.],\n",
       "        [0.],\n",
       "        [0.],\n",
       "        [2.],\n",
       "        [0.],\n",
       "        [1.],\n",
       "        [2.],\n",
       "        [1.],\n",
       "        [2.],\n",
       "        [2.],\n",
       "        [3.]], device='cuda:0')"
      ]
     },
     "execution_count": 25,
     "metadata": {},
     "output_type": "execute_result"
    }
   ],
   "source": [
    "action = torch.FloatTensor(action).to(device)\n"
   ]
  },
  {
   "cell_type": "code",
   "execution_count": 28,
   "metadata": {},
   "outputs": [],
   "source": [
    "new_log_probs = dist.log_prob(action.squeeze()).unsqueeze(dim=1)"
   ]
  },
  {
   "cell_type": "code",
   "execution_count": 30,
   "metadata": {},
   "outputs": [
    {
     "data": {
      "text/plain": [
       "torch.Size([128, 1])"
      ]
     },
     "execution_count": 30,
     "metadata": {},
     "output_type": "execute_result"
    }
   ],
   "source": [
    "new_log_probs.size()"
   ]
  },
  {
   "cell_type": "code",
   "execution_count": 33,
   "metadata": {},
   "outputs": [],
   "source": [
    "old_log_probs = torch.FloatTensor(old_log_probs).to(device)"
   ]
  },
  {
   "cell_type": "code",
   "execution_count": 37,
   "metadata": {},
   "outputs": [],
   "source": [
    "ratio = (new_log_probs - old_log_probs).exp()"
   ]
  },
  {
   "cell_type": "code",
   "execution_count": 40,
   "metadata": {},
   "outputs": [],
   "source": [
    "advantage = torch.FloatTensor(advantage).to(device)"
   ]
  },
  {
   "cell_type": "code",
   "execution_count": 41,
   "metadata": {},
   "outputs": [],
   "source": [
    "surr1 = ratio * advantage"
   ]
  },
  {
   "cell_type": "code",
   "execution_count": 44,
   "metadata": {},
   "outputs": [],
   "source": [
    "surr2 = torch.clamp(ratio, 1.0 - 0.2, 1.0 + 0.2) * advantage"
   ]
  },
  {
   "cell_type": "code",
   "execution_count": 46,
   "metadata": {},
   "outputs": [],
   "source": [
    "actor_loss = - torch.min(surr1, surr2).mean()"
   ]
  },
  {
   "cell_type": "code",
   "execution_count": 51,
   "metadata": {},
   "outputs": [],
   "source": [
    "return_ = torch.FloatTensor(return_).to(device)"
   ]
  },
  {
   "cell_type": "code",
   "execution_count": 52,
   "metadata": {},
   "outputs": [],
   "source": [
    "critic_loss = (return_ - value).pow(2).mean()"
   ]
  },
  {
   "cell_type": "code",
   "execution_count": 56,
   "metadata": {},
   "outputs": [],
   "source": [
    "loss = 0.5 * critic_loss + actor_loss - 0.001 * entropy"
   ]
  },
  {
   "cell_type": "code",
   "execution_count": 57,
   "metadata": {},
   "outputs": [
    {
     "data": {
      "text/plain": [
       "tensor(0.0139, device='cuda:0', grad_fn=<SubBackward0>)"
      ]
     },
     "execution_count": 57,
     "metadata": {},
     "output_type": "execute_result"
    }
   ],
   "source": [
    "loss"
   ]
  },
  {
   "cell_type": "code",
   "execution_count": 58,
   "metadata": {},
   "outputs": [],
   "source": [
    "optimizer.zero_grad()\n",
    "loss.backward()\n",
    "optimizer.step()"
   ]
  },
  {
   "cell_type": "code",
   "execution_count": 59,
   "metadata": {},
   "outputs": [],
   "source": [
    "sum_returns += return_.mean()\n",
    "sum_advantage += advantage.mean()\n",
    "sum_loss_actor += actor_loss\n",
    "sum_loss_critic += critic_loss\n",
    "sum_loss_total += loss\n",
    "sum_entropy += entropy\n"
   ]
  },
  {
   "cell_type": "code",
   "execution_count": 60,
   "metadata": {},
   "outputs": [
    {
     "data": {
      "text/plain": [
       "tensor(0.0534, device='cuda:0')"
      ]
     },
     "execution_count": 60,
     "metadata": {},
     "output_type": "execute_result"
    }
   ],
   "source": [
    "sum_returns"
   ]
  },
  {
   "cell_type": "code",
   "execution_count": null,
   "metadata": {},
   "outputs": [],
   "source": []
  },
  {
   "cell_type": "code",
   "execution_count": null,
   "metadata": {},
   "outputs": [],
   "source": []
  },
  {
   "cell_type": "code",
   "execution_count": null,
   "metadata": {},
   "outputs": [],
   "source": []
  },
  {
   "cell_type": "code",
   "execution_count": 116,
   "metadata": {},
   "outputs": [
    {
     "ename": "TypeError",
     "evalue": "'int' object is not callable",
     "output_type": "error",
     "traceback": [
      "\u001b[0;31m---------------------------------------------------------------------------\u001b[0m",
      "\u001b[0;31mTypeError\u001b[0m                                 Traceback (most recent call last)",
      "\u001b[0;32m<ipython-input-116-d630b25a3b15>\u001b[0m in \u001b[0;36m<module>\u001b[0;34m\u001b[0m\n\u001b[0;32m----> 1\u001b[0;31m ppo_update(frame_idx, states, actions, log_probs, returns, advantage,\n\u001b[0m\u001b[1;32m      2\u001b[0m             conf.PPO_EPSILON, conf.PPO_EPOCHS, conf.MINI_BATCH_SIZE, conf.CRITIC_DISCOUNT, conf.ENTROPY_BETA, device)\n",
      "\u001b[0;32m<ipython-input-2-7a474bfa1be7>\u001b[0m in \u001b[0;36mppo_update\u001b[0;34m(frame_idx, states, actions, log_probs, returns, advantages, clip_param, epochs, mini_batch_size, critic_discount, entropy_beta, device)\u001b[0m\n\u001b[1;32m     68\u001b[0m     \u001b[0;32mfor\u001b[0m \u001b[0m_\u001b[0m \u001b[0;32min\u001b[0m \u001b[0mrange\u001b[0m\u001b[0;34m(\u001b[0m\u001b[0mepochs\u001b[0m\u001b[0;34m)\u001b[0m\u001b[0;34m:\u001b[0m\u001b[0;34m\u001b[0m\u001b[0;34m\u001b[0m\u001b[0m\n\u001b[1;32m     69\u001b[0m         \u001b[0;31m# grabs random mini-batches several times until we have covered all data\u001b[0m\u001b[0;34m\u001b[0m\u001b[0;34m\u001b[0m\u001b[0;34m\u001b[0m\u001b[0m\n\u001b[0;32m---> 70\u001b[0;31m         \u001b[0;32mfor\u001b[0m \u001b[0mstate\u001b[0m\u001b[0;34m,\u001b[0m \u001b[0maction\u001b[0m\u001b[0;34m,\u001b[0m \u001b[0mold_log_probs\u001b[0m\u001b[0;34m,\u001b[0m \u001b[0mreturn_\u001b[0m\u001b[0;34m,\u001b[0m \u001b[0madvantage\u001b[0m \u001b[0;32min\u001b[0m \u001b[0mppo_iter\u001b[0m\u001b[0;34m(\u001b[0m\u001b[0mstates\u001b[0m\u001b[0;34m,\u001b[0m \u001b[0mactions\u001b[0m\u001b[0;34m,\u001b[0m \u001b[0mlog_probs\u001b[0m\u001b[0;34m,\u001b[0m \u001b[0mreturns\u001b[0m\u001b[0;34m,\u001b[0m \u001b[0madvantages\u001b[0m\u001b[0;34m,\u001b[0m \u001b[0mmini_batch_size\u001b[0m\u001b[0;34m)\u001b[0m\u001b[0;34m:\u001b[0m\u001b[0;34m\u001b[0m\u001b[0;34m\u001b[0m\u001b[0m\n\u001b[0m\u001b[1;32m     71\u001b[0m \u001b[0;34m\u001b[0m\u001b[0m\n\u001b[1;32m     72\u001b[0m             \u001b[0mdist\u001b[0m\u001b[0;34m,\u001b[0m \u001b[0mvalue\u001b[0m \u001b[0;34m=\u001b[0m \u001b[0mmodel\u001b[0m\u001b[0;34m(\u001b[0m\u001b[0mstate\u001b[0m\u001b[0;34m.\u001b[0m\u001b[0mto\u001b[0m\u001b[0;34m(\u001b[0m\u001b[0mdevice\u001b[0m\u001b[0;34m)\u001b[0m\u001b[0;34m)\u001b[0m\u001b[0;34m\u001b[0m\u001b[0;34m\u001b[0m\u001b[0m\n",
      "\u001b[0;32m<ipython-input-2-7a474bfa1be7>\u001b[0m in \u001b[0;36mppo_iter\u001b[0;34m(states, actions, log_probs, returns, advantage, mini_batch_size)\u001b[0m\n\u001b[1;32m     48\u001b[0m \u001b[0;34m\u001b[0m\u001b[0m\n\u001b[1;32m     49\u001b[0m \u001b[0;32mdef\u001b[0m \u001b[0mppo_iter\u001b[0m\u001b[0;34m(\u001b[0m\u001b[0mstates\u001b[0m\u001b[0;34m,\u001b[0m \u001b[0mactions\u001b[0m\u001b[0;34m,\u001b[0m \u001b[0mlog_probs\u001b[0m\u001b[0;34m,\u001b[0m \u001b[0mreturns\u001b[0m\u001b[0;34m,\u001b[0m \u001b[0madvantage\u001b[0m\u001b[0;34m,\u001b[0m \u001b[0mmini_batch_size\u001b[0m\u001b[0;34m)\u001b[0m\u001b[0;34m:\u001b[0m\u001b[0;34m\u001b[0m\u001b[0;34m\u001b[0m\u001b[0m\n\u001b[0;32m---> 50\u001b[0;31m     \u001b[0mbatch_size\u001b[0m \u001b[0;34m=\u001b[0m \u001b[0mstates\u001b[0m\u001b[0;34m.\u001b[0m\u001b[0msize\u001b[0m\u001b[0;34m(\u001b[0m\u001b[0;36m0\u001b[0m\u001b[0;34m)\u001b[0m\u001b[0;34m\u001b[0m\u001b[0;34m\u001b[0m\u001b[0m\n\u001b[0m\u001b[1;32m     51\u001b[0m     \u001b[0;31m# generates random mini-batches until we have covered the full batch\u001b[0m\u001b[0;34m\u001b[0m\u001b[0;34m\u001b[0m\u001b[0;34m\u001b[0m\u001b[0m\n\u001b[1;32m     52\u001b[0m     \u001b[0;32mfor\u001b[0m \u001b[0m_\u001b[0m \u001b[0;32min\u001b[0m \u001b[0mrange\u001b[0m\u001b[0;34m(\u001b[0m\u001b[0mbatch_size\u001b[0m \u001b[0;34m//\u001b[0m \u001b[0mmini_batch_size\u001b[0m\u001b[0;34m)\u001b[0m\u001b[0;34m:\u001b[0m\u001b[0;34m\u001b[0m\u001b[0;34m\u001b[0m\u001b[0m\n",
      "\u001b[0;31mTypeError\u001b[0m: 'int' object is not callable"
     ]
    }
   ],
   "source": [
    "ppo_update(frame_idx, states, actions, log_probs, returns, advantage,\n",
    "            conf.PPO_EPSILON, conf.PPO_EPOCHS, conf.MINI_BATCH_SIZE, conf.CRITIC_DISCOUNT, conf.ENTROPY_BETA, device)"
   ]
  },
  {
   "cell_type": "code",
   "execution_count": null,
   "metadata": {},
   "outputs": [],
   "source": []
  },
  {
   "cell_type": "code",
   "execution_count": null,
   "metadata": {},
   "outputs": [],
   "source": []
  },
  {
   "cell_type": "code",
   "execution_count": null,
   "metadata": {},
   "outputs": [],
   "source": []
  }
 ],
 "metadata": {
  "kernelspec": {
   "display_name": "Python 3",
   "language": "python",
   "name": "python3"
  },
  "language_info": {
   "codemirror_mode": {
    "name": "ipython",
    "version": 3
   },
   "file_extension": ".py",
   "mimetype": "text/x-python",
   "name": "python",
   "nbconvert_exporter": "python",
   "pygments_lexer": "ipython3",
   "version": "3.8.2"
  }
 },
 "nbformat": 4,
 "nbformat_minor": 2
}
