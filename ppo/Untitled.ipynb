{
 "cells": [
  {
   "cell_type": "code",
   "execution_count": 5,
   "metadata": {},
   "outputs": [],
   "source": [
    "import json, os"
   ]
  },
  {
   "cell_type": "code",
   "execution_count": 12,
   "metadata": {},
   "outputs": [],
   "source": [
    "def setup(env_id):\n",
    "\n",
    "    with open(os.path.join('conf', env_id + '.json'), 'r+') as json_file: #open read and overwrite.\n",
    "        \n",
    "        data = json.load(json_file)\n",
    "\n",
    "        global ENV_ID\n",
    "        global NUM_ENVS            \n",
    "        global HIDDEN_SIZE         \n",
    "        global LEARNING_RATE       \n",
    "        global GAMMA               \n",
    "        global GAE_LAMBDA          \n",
    "        global PPO_EPSILON         \n",
    "        global CRITIC_DISCOUNT     \n",
    "        global ENTROPY_BETA        \n",
    "        global PPO_STEPS           \n",
    "        global MINI_BATCH_SIZE     \n",
    "        global PPO_EPOCHS          \n",
    "        global TEST_EPOCHS         \n",
    "        global NUM_TESTS           \n",
    "        global TARGET_REWARD       \n",
    "\n",
    "        ENV_ID              = data.setdefault('env_id', 'RoboschoolHalfCheetah-v1')\n",
    "        NUM_ENVS            = data.setdefault('num_envs', 1)\n",
    "        HIDDEN_SIZE         = data.setdefault('hidden_size', 256)\n",
    "        LEARNING_RATE       = data.setdefault('learning_rate', 1e-4)\n",
    "        GAMMA               = data.setdefault('gamma', 0.99)\n",
    "        GAE_LAMBDA          = data.setdefault('gae_lambda', 0.95)\n",
    "        PPO_EPSILON         = data.setdefault('ppo_epsilon', 0.2)\n",
    "        CRITIC_DISCOUNT     = data.setdefault('critic_discount', 0.5)\n",
    "        ENTROPY_BETA        = data.setdefault('entropy_beta', 0.00)\n",
    "        PPO_STEPS           = data.setdefault('ppo_steps', 256)\n",
    "        MINI_BATCH_SIZE     = data.setdefault('mini_batch_size', 64)\n",
    "        PPO_EPOCHS          = data.setdefault('ppo_epochs', 10)\n",
    "        TEST_EPOCHS         = data.setdefault('test_epochs', 10)\n",
    "        NUM_TESTS           = data.setdefault('num_tests', 10)\n",
    "        TARGET_REWARD       = data.setdefault('target_reward', 2500)\n",
    "        teste=data.setdefault('teste', 'carlos')\n",
    "\n",
    "        json_file.seek(0)\n",
    "        json.dump(data, json_file)\n",
    "        json_file.truncate()\n"
   ]
  },
  {
   "cell_type": "code",
   "execution_count": 13,
   "metadata": {},
   "outputs": [
    {
     "data": {
      "text/plain": [
       "0.0001"
      ]
     },
     "execution_count": 13,
     "metadata": {},
     "output_type": "execute_result"
    }
   ],
   "source": [
    "LEARNING_RATE"
   ]
  },
  {
   "cell_type": "code",
   "execution_count": 14,
   "metadata": {},
   "outputs": [],
   "source": [
    "setup('RoboschoolHalfCheetah-v1')"
   ]
  },
  {
   "cell_type": "code",
   "execution_count": null,
   "metadata": {},
   "outputs": [],
   "source": []
  },
  {
   "cell_type": "code",
   "execution_count": null,
   "metadata": {},
   "outputs": [],
   "source": []
  },
  {
   "cell_type": "code",
   "execution_count": null,
   "metadata": {},
   "outputs": [],
   "source": []
  },
  {
   "cell_type": "code",
   "execution_count": null,
   "metadata": {},
   "outputs": [],
   "source": []
  },
  {
   "cell_type": "code",
   "execution_count": 9,
   "metadata": {},
   "outputs": [],
   "source": [
    "\n",
    "def make_env(env_id):\n",
    "    # returns a function which creates a single environment\n",
    "    def _thunk():\n",
    "        env = gym.make(env_id)\n",
    "        return env\n",
    "    return _thunk\n",
    "\n",
    "    \n",
    "def test_env(env, model, device, deterministic=True):\n",
    "    state = env.reset()\n",
    "    done = False\n",
    "    total_reward = 0\n",
    "    while not done:\n",
    "        state = torch.FloatTensor(state).unsqueeze(0).to(device)\n",
    "        dist, _ = model(state)\n",
    "        action = dist.mean.detach().cpu().numpy()[0] if deterministic \\\n",
    "            else dist.sample().cpu().numpy()[0]\n",
    "        next_state, reward, done, _ = env.step(action)\n",
    "        state = next_state\n",
    "        total_reward += reward\n",
    "    return total_reward\n",
    "\n",
    "\n",
    "def normalize(x):\n",
    "    x -= x.mean()\n",
    "    x /= (x.std() + 1e-8)\n",
    "    return x\n",
    "\n",
    "\n",
    "def compute_gae(next_value, rewards, masks, values, gamma=GAMMA, lam=GAE_LAMBDA):\n",
    "    values = values + [next_value]\n",
    "    gae = 0\n",
    "    returns = []\n",
    "    for step in reversed(range(len(rewards))):\n",
    "        delta = rewards[step] + gamma * values[step + 1] * masks[step] - values[step]\n",
    "        gae = delta + gamma * lam * masks[step] * gae\n",
    "        # prepend to get correct order back\n",
    "        returns.insert(0, gae + values[step])\n",
    "    return returns\n",
    "\n",
    "\n",
    "def ppo_iter(states, actions, log_probs, returns, advantage):\n",
    "    batch_size = states.size(0)\n",
    "    # generates random mini-batches until we have covered the full batch\n",
    "    for _ in range(batch_size // MINI_BATCH_SIZE):\n",
    "        rand_ids = np.random.randint(0, batch_size, MINI_BATCH_SIZE)\n",
    "        yield states[rand_ids, :], actions[rand_ids, :], log_probs[rand_ids, :], returns[rand_ids, :], advantage[rand_ids, :]\n",
    "        \n",
    "\n",
    "def ppo_update(frame_idx, states, actions, log_probs, returns, advantages, clip_param=PPO_EPSILON):\n",
    "    count_steps = 0\n",
    "    sum_returns = 0.0\n",
    "    sum_advantage = 0.0\n",
    "    sum_loss_actor = 0.0\n",
    "    sum_loss_critic = 0.0\n",
    "    sum_entropy = 0.0\n",
    "    sum_loss_total = 0.0\n",
    "\n",
    "    # PPO EPOCHS is the number of times we will go through ALL the training data to make updates\n",
    "    for _ in range(PPO_EPOCHS):\n",
    "        # grabs random mini-batches several times until we have covered all data\n",
    "        for state, action, old_log_probs, return_, advantage in ppo_iter(states, actions, log_probs, returns, advantages):\n",
    "            dist, value = model(state)\n",
    "            entropy = dist.entropy().mean()\n",
    "            new_log_probs = dist.log_prob(action)\n",
    "\n",
    "            ratio = (new_log_probs - old_log_probs).exp()\n",
    "            surr1 = ratio * advantage\n",
    "            surr2 = torch.clamp(ratio, 1.0 - clip_param, 1.0 + clip_param) * advantage\n",
    "\n",
    "            actor_loss  = - torch.min(surr1, surr2).mean()\n",
    "            critic_loss = (return_ - value).pow(2).mean()\n",
    "\n",
    "            loss = CRITIC_DISCOUNT * critic_loss + actor_loss - ENTROPY_BETA * entropy\n",
    "\n",
    "            optimizer.zero_grad()\n",
    "            loss.backward()\n",
    "            optimizer.step()\n",
    "\n",
    "            # track statistics\n",
    "            sum_returns += return_.mean()\n",
    "            sum_advantage += advantage.mean()\n",
    "            sum_loss_actor += actor_loss\n",
    "            sum_loss_critic += critic_loss\n",
    "            sum_loss_total += loss\n",
    "            sum_entropy += entropy\n",
    "            \n",
    "            count_steps += 1\n",
    "    \n",
    "    writer.add_scalar(\"returns\", sum_returns / count_steps, frame_idx)\n",
    "    writer.add_scalar(\"advantage\", sum_advantage / count_steps, frame_idx)\n",
    "    writer.add_scalar(\"loss_actor\", sum_loss_actor / count_steps, frame_idx)\n",
    "    writer.add_scalar(\"loss_critic\", sum_loss_critic / count_steps, frame_idx)\n",
    "    writer.add_scalar(\"entropy\", sum_entropy / count_steps, frame_idx)\n",
    "    writer.add_scalar(\"loss_total\", sum_loss_total / count_steps, frame_idx)\n"
   ]
  },
  {
   "cell_type": "code",
   "execution_count": 11,
   "metadata": {},
   "outputs": [
    {
     "name": "stdout",
     "output_type": "stream",
     "text": [
      "Device: cuda\n"
     ]
    }
   ],
   "source": [
    "use_cuda = torch.cuda.is_available()\n",
    "device   = torch.device(\"cuda\" if use_cuda else \"cpu\")\n",
    "print('Device:', device)\n",
    "\n",
    "# Prepare environments\n",
    "envs = [make_env(env_id) for i in range(NUM_ENVS)]\n",
    "envs = SubprocVecEnv(envs)\n",
    "env = gym.make(env_id)"
   ]
  },
  {
   "cell_type": "code",
   "execution_count": 16,
   "metadata": {},
   "outputs": [
    {
     "data": {
      "text/plain": [
       "['__class__',\n",
       " '__delattr__',\n",
       " '__dict__',\n",
       " '__dir__',\n",
       " '__doc__',\n",
       " '__eq__',\n",
       " '__format__',\n",
       " '__ge__',\n",
       " '__getattribute__',\n",
       " '__gt__',\n",
       " '__hash__',\n",
       " '__init__',\n",
       " '__init_subclass__',\n",
       " '__le__',\n",
       " '__len__',\n",
       " '__lt__',\n",
       " '__module__',\n",
       " '__ne__',\n",
       " '__new__',\n",
       " '__reduce__',\n",
       " '__reduce_ex__',\n",
       " '__repr__',\n",
       " '__setattr__',\n",
       " '__sizeof__',\n",
       " '__str__',\n",
       " '__subclasshook__',\n",
       " '__weakref__',\n",
       " 'action_space',\n",
       " 'close',\n",
       " 'closed',\n",
       " 'nenvs',\n",
       " 'num_envs',\n",
       " 'observation_space',\n",
       " 'ps',\n",
       " 'remotes',\n",
       " 'reset',\n",
       " 'reset_task',\n",
       " 'step',\n",
       " 'step_async',\n",
       " 'step_wait',\n",
       " 'waiting',\n",
       " 'work_remotes']"
      ]
     },
     "execution_count": 16,
     "metadata": {},
     "output_type": "execute_result"
    }
   ],
   "source": [
    "dir(envs)"
   ]
  },
  {
   "cell_type": "code",
   "execution_count": 23,
   "metadata": {},
   "outputs": [
    {
     "data": {
      "text/plain": [
       "Box(210, 160, 3)"
      ]
     },
     "execution_count": 23,
     "metadata": {},
     "output_type": "execute_result"
    }
   ],
   "source": [
    "envs.observation_space"
   ]
  },
  {
   "cell_type": "code",
   "execution_count": null,
   "metadata": {},
   "outputs": [],
   "source": []
  },
  {
   "cell_type": "code",
   "execution_count": 12,
   "metadata": {},
   "outputs": [
    {
     "ename": "IndexError",
     "evalue": "tuple index out of range",
     "output_type": "error",
     "traceback": [
      "\u001b[0;31m---------------------------------------------------------------------------\u001b[0m",
      "\u001b[0;31mIndexError\u001b[0m                                Traceback (most recent call last)",
      "\u001b[0;32m<ipython-input-12-0d670d209137>\u001b[0m in \u001b[0;36m<module>\u001b[0;34m\u001b[0m\n\u001b[1;32m      1\u001b[0m \u001b[0mnum_inputs\u001b[0m  \u001b[0;34m=\u001b[0m \u001b[0menvs\u001b[0m\u001b[0;34m.\u001b[0m\u001b[0mobservation_space\u001b[0m\u001b[0;34m.\u001b[0m\u001b[0mshape\u001b[0m\u001b[0;34m[\u001b[0m\u001b[0;36m0\u001b[0m\u001b[0;34m]\u001b[0m\u001b[0;34m\u001b[0m\u001b[0;34m\u001b[0m\u001b[0m\n\u001b[0;32m----> 2\u001b[0;31m \u001b[0mnum_outputs\u001b[0m \u001b[0;34m=\u001b[0m \u001b[0menvs\u001b[0m\u001b[0;34m.\u001b[0m\u001b[0maction_space\u001b[0m\u001b[0;34m.\u001b[0m\u001b[0mshape\u001b[0m\u001b[0;34m[\u001b[0m\u001b[0;36m0\u001b[0m\u001b[0;34m]\u001b[0m\u001b[0;34m\u001b[0m\u001b[0;34m\u001b[0m\u001b[0m\n\u001b[0m",
      "\u001b[0;31mIndexError\u001b[0m: tuple index out of range"
     ]
    }
   ],
   "source": [
    "num_inputs  = envs.observation_space.shape[0]\n"
   ]
  }
 ],
 "metadata": {
  "kernelspec": {
   "display_name": "SchoolOfAI",
   "language": "python",
   "name": "schoolofai"
  },
  "language_info": {
   "codemirror_mode": {
    "name": "ipython",
    "version": 3
   },
   "file_extension": ".py",
   "mimetype": "text/x-python",
   "name": "python",
   "nbconvert_exporter": "python",
   "pygments_lexer": "ipython3",
   "version": "3.7.5"
  }
 },
 "nbformat": 4,
 "nbformat_minor": 2
}
